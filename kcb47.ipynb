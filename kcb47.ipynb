{
 "cells": [
  {
   "cell_type": "code",
   "execution_count": 8,
   "metadata": {},
   "outputs": [],
   "source": [
    "import pandas as pd\n",
    "import matplotlib.pyplot as plt\n",
    "arrest = pd.read_csv(\"arrest_data.csv\", sep=\",\")"
   ]
  },
  {
   "cell_type": "code",
   "execution_count": 4,
   "metadata": {},
   "outputs": [],
   "source": [
    "arrest_dict = dict()\n",
    "for index, row in arrest.iterrows():\n",
    "    neighborhood_a = row['INCIDENTNEIGHBORHOOD']\n",
    "    if neighborhood_a not in arrest_dict:\n",
    "        arrest_dict[neighborhood_a] = 1\n",
    "    else:\n",
    "        arrest_dict[neighborhood_a] = arrest_dict[neighborhood_a] + 1\n",
    "#arrest_dict"
   ]
  },
  {
   "cell_type": "code",
   "execution_count": 5,
   "metadata": {},
   "outputs": [],
   "source": [
    "census = pd.read_csv(\"population-density.csv\", sep=\",\")"
   ]
  },
  {
   "cell_type": "code",
   "execution_count": 6,
   "metadata": {},
   "outputs": [],
   "source": [
    "census_dict = dict()\n",
    "for index, row in census.iterrows():\n",
    "    neighborhood_c = row['Neighborhood']\n",
    "    if neighborhood_c not in census_dict:\n",
    "        val = row['Pop. 2010']\n",
    "        val = val.replace(',', '')\n",
    "        census_dict[neighborhood_c] = int(val)\n",
    "#census_dict"
   ]
  },
  {
   "cell_type": "code",
   "execution_count": 26,
   "metadata": {},
   "outputs": [
    {
     "data": {
      "image/png": "[encoded data removed]",
      "text/plain": [
       "<Figure size 432x288 with 1 Axes>"
      ]
     },
     "metadata": {
      "needs_background": "light"
     },
     "output_type": "display_data"
    }
   ],
   "source": [
    "arrest_to_pop_ratio = dict()\n",
    "top_5 = dict()\n",
    "for key in census_dict:\n",
    "        if key in arrest_dict:\n",
    "            pop = census_dict[key]\n",
    "            arrests = arrest_dict[key]\n",
    "            ratio = arrests/pop\n",
    "            arrest_to_pop_ratio[key] = ratio\n",
    "            if ratio < 0.04:\n",
    "                top_5[key] = ratio\n",
    "#arrest_to_pop_ratio\n",
    "neigh = list(top_5.keys())\n",
    "val = list(top_5.values())\n",
    "plt.bar(range(len(top_5)), val, tick_label=neigh, width=.8)\n",
    "plt.xticks(rotation=90)\n",
    "plt.subplots_adjust(bottom=0.05)\n",
    "plt.show()"
   ]
  },
  {
   "cell_type": "markdown",
   "metadata": {},
   "source": [
    "## Conclusion\n",
    "---\n",
    "After counting the number of arrests in each neighborhood, I used census data from 2010 to figure out the population of each neighborhood. If the neighborhood was included in both datasets, I found the ratio between the number of arrests and the population of each neighborhood. Whichever one of these ratios was the lowest will determine which neighborhood is the best to live in. I will list the top 5 for the sole purpose of comparing to the other submetrics that my group members have, here are the top 5 neighborhoods, from best to \"worst\".\n",
    "1. Central Northside = 0.00786862812179268\n",
    "2. Squirrel Hill North = 0.023761330634515535\n",
    "3. Swisshelm Park = 0.029390154298310066\n",
    "4. Regent Square = 0.03771551724137931\n",
    "5. North Oakland = 0.03876409818974505"
   ]
  }
 ],
 "metadata": {
  "kernelspec": {
   "display_name": "Python 3",
   "language": "python",
   "name": "python3"
  },
  "language_info": {
   "codemirror_mode": {
    "name": "ipython",
    "version": 3
   },
   "file_extension": ".py",
   "mimetype": "text/x-python",
   "name": "python",
   "nbconvert_exporter": "python",
   "pygments_lexer": "ipython3",
   "version": "3.8.3"
  }
 },
 "nbformat": 4,
 "nbformat_minor": 4
}
