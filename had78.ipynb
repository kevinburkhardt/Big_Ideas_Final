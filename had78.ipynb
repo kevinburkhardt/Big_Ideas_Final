{
 "cells": [
  {
   "cell_type": "markdown",
   "metadata": {},
   "source": [
    "<h1> Park Data <h1>"
   ]
  },
  {
   "cell_type": "markdown",
   "metadata": {},
   "source": [
    "I imported Pandas to analyze the data and Matplotlib to graph it. Then, I read the CSV file and created a dictionary of all the neighborhoods, along with how many times each neighborhood appeared in the dictionary."
   ]
  },
  {
   "cell_type": "code",
   "execution_count": 1,
   "metadata": {},
   "outputs": [],
   "source": [
    "import pandas as pd\n",
    "import matplotlib.pyplot as plt\n",
    "\n",
    "# Read the CSV file and create a dict\n",
    "parkData = pd.read_csv(\"parks_in_pitt.csv\", sep=\",\")\n",
    "park_dict = dict()\n",
    "for index, row in parkData.iterrows():\n",
    "    neigh = row['neighborhood']\n",
    "    if neigh not in park_dict:\n",
    "        park_dict[neigh] = 1\n",
    "    else:\n",
    "        park_dict[neigh] += 1"
   ]
  },
  {
   "cell_type": "markdown",
   "metadata": {},
   "source": [
    "----"
   ]
  },
  {
   "cell_type": "markdown",
   "metadata": {},
   "source": [
    "The more parks in a neighborhood, the better it is. So, I sorted the dictionary in descending numerical order:"
   ]
  },
  {
   "cell_type": "code",
   "execution_count": 2,
   "metadata": {},
   "outputs": [
    {
     "name": "stdout",
     "output_type": "stream",
     "text": [
      "[('East Liberty', 12), ('Central Business District', 10), ('Beechview', 8), ('South Side Slopes', 7), ('Point Breeze', 7), ('South Side Flats', 6), ('Hazelwood', 6), ('Squirrel Hill South', 6), ('Mount Washington', 6), ('Sheraden', 6), ('South Oakland', 5), ('Troy Hill', 5), ('Central Oakland', 4), ('Brighton Heights', 4), ('Elliott', 4), ('Marshall-Shadeland', 4), ('Crawford-Roberts', 3), ('North Shore', 3), ('Central Northside', 3), ('Lower Lawrenceville', 3), ('Brookline', 3), ('Lincoln-Lemington-Belmar', 3), ('Westwood', 3), ('Upper Lawrenceville', 3), ('Garfield', 3), ('Greenfield', 3), ('Larimer', 3), ('Bloomfield', 3), ('Spring Hill-City View', 3), ('Carrick', 3), ('Manchester', 3), ('Beltzhoover', 3), ('Point Breeze North', 3), ('Swisshelm Park', 3), ('Allegheny Center', 2), ('Banksville', 2), ('Homewood North', 2), ('Spring Garden', 2), ('Perry South', 2), ('Strip District', 2), ('Crafton Heights', 2), ('Allentown', 2), ('Duquesne Heights', 2), ('Fineview', 2), ('Perry North', 2), ('Highland Park', 2), ('Terrace Village', 2), ('Lincoln Place', 2), ('Polish Hill', 2), ('West End', 2), ('Bedford Dwellings', 1), ('Bon Air', 1), ('Windgap', 1), ('Homewood West', 1), ('Arlington', 1), ('Stanton Heights', 1), ('East Carnegie', 1), ('East Hills', 1), ('Esplen', 1), ('Fairywood', 1), ('North Oakland', 1), ('Hays', 1), ('Homewood South', 1), ('Morningside', 1), ('Central Lawrenceville', 1), ('Oakwood', 1), ('Regent Square', 1), ('Upper Hill', 1), ('New Homestead', 1), ('West Oakland', 1), ('Bluff', 1), ('Middle Hill', 1), ('Squirrel Hill North', 1)]\n"
     ]
    }
   ],
   "source": [
    "sorted_park_dict = sorted(park_dict.items(), key=lambda x: x[1], reverse=True)\n",
    "print(sorted_park_dict)"
   ]
  },
  {
   "cell_type": "markdown",
   "metadata": {},
   "source": [
    "----"
   ]
  },
  {
   "cell_type": "markdown",
   "metadata": {},
   "source": [
    "The top 5 neighborhoods are what we decided to analyze so I listed them: "
   ]
  },
  {
   "cell_type": "code",
   "execution_count": 3,
   "metadata": {},
   "outputs": [
    {
     "name": "stdout",
     "output_type": "stream",
     "text": [
      "1. East Liberty: 12\n",
      "2. Central Business District: 10\n",
      "3. Beechview: 8\n",
      "4. South Side Slopes: 7\n",
      "5. Point Breeze: 7\n"
     ]
    }
   ],
   "source": [
    "for i, (neighborhood, park_count) in enumerate(sorted_park_dict[:5]):\n",
    "    print(f\"{i+1}. {neighborhood}: {park_count}\")\n"
   ]
  },
  {
   "cell_type": "markdown",
   "metadata": {},
   "source": [
    "----"
   ]
  },
  {
   "cell_type": "markdown",
   "metadata": {},
   "source": [
    "I used a bar graph to plot the data."
   ]
  },
  {
   "cell_type": "code",
   "execution_count": 4,
   "metadata": {},
   "outputs": [
    {
     "data": {
      "image/png": "[encoded data removed]",
      "text/plain": [
       "<Figure size 432x288 with 1 Axes>"
      ]
     },
     "metadata": {
      "needs_background": "light"
     },
     "output_type": "display_data"
    }
   ],
   "source": [
    "top_5_parks = pd.DataFrame(sorted_park_dict[:5], columns=['Neighborhood', 'Park Count'])\n",
    "\n",
    "# Create a bar chart\n",
    "top_5_parks.plot(kind='bar', x='Neighborhood', y='Park Count')\n",
    "\n",
    "# Add chart labels\n",
    "plt.title('Number of Parks in Top 5 Pittsburgh Neighborhoods')\n",
    "plt.xlabel('Neighborhood')\n",
    "plt.ylabel('Number of Parks')\n",
    "\n",
    "# Show the chart\n",
    "plt.show()"
   ]
  },
  {
   "cell_type": "markdown",
   "metadata": {},
   "source": [
    "----"
   ]
  },
  {
   "cell_type": "markdown",
   "metadata": {},
   "source": [
    "<h2> Conclusion <h2>"
   ]
  },
  {
   "cell_type": "markdown",
   "metadata": {},
   "source": [
    "This metric was chosen because we concluded that there would be a positive correlation between the number of parks in a neighborhood and how \"good\" the neighborhood is. Since parks are community spaces, the number of them can be a good indicator of how community-oriented an area is. \n",
    "\n",
    "I chose a data set that included all the neighborhoods in Pittsburgh and the number of parks in each. After creating a dictionary, sorting it numerically, and listing the top 5, I created a bar chart with the information. \n",
    "\n",
    "The chart shows the top 5 best neighborhoods to live in. Based on this parameter alone, the best neighborhood in Pittsburgh is East Liberty. \n",
    "\n",
    "\n"
   ]
  },
  {
   "cell_type": "code",
   "execution_count": null,
   "metadata": {},
   "outputs": [],
   "source": []
  }
 ],
 "metadata": {
  "kernelspec": {
   "display_name": "Python 3",
   "language": "python",
   "name": "python3"
  },
  "language_info": {
   "codemirror_mode": {
    "name": "ipython",
    "version": 3
   },
   "file_extension": ".py",
   "mimetype": "text/x-python",
   "name": "python",
   "nbconvert_exporter": "python",
   "pygments_lexer": "ipython3",
   "version": "3.8.3"
  }
 },
 "nbformat": 4,
 "nbformat_minor": 4
}
