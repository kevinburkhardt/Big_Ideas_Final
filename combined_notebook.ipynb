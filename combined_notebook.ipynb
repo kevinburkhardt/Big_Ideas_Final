{
 "cells": [
  {
   "cell_type": "markdown",
   "metadata": {},
   "source": [
    "# Canvas Group #22 *FBGM*\n",
    "---\n",
    "## Introduction\n",
    "\n",
    "We decided to make our metric based off the general safety of the neighborhoods in Pittsburgh. We decided to use these three submetrics:\n",
    "1. Arrest Data\n",
    "2. Number of parks\n",
    "3. Blood-lead levels reported by school district\n"
   ]
  },
  {
   "cell_type": "markdown",
   "metadata": {},
   "source": [
    "## We will start with arrest data from Kevin\n",
    "---\n",
    "\n",
    "I will start by importing the necessary libraries, and I will then read my *.csv file containing the arrest data that I want to investigate.\n",
    "\n",
    "---"
   ]
  },
  {
   "cell_type": "code",
   "execution_count": 25,
   "metadata": {},
   "outputs": [],
   "source": [
    "import pandas as pd\n",
    "import matplotlib.pyplot as plt\n",
    "import numpy as np\n",
    "arrest = pd.read_csv(\"arrest_data.csv\", sep=\",\")"
   ]
  },
  {
   "cell_type": "markdown",
   "metadata": {},
   "source": [
    "---\n",
    "\n",
    "Now I will create a dictionary, with which I will iterate through the dataframe to add each neighborhood to the dictionary, and counting how many arrests occurred in each neighborhood."
   ]
  },
  {
   "cell_type": "code",
   "execution_count": 26,
   "metadata": {},
   "outputs": [
    {
     "data": {
      "text/plain": [
       "{'Bloomfield': 930,\n",
       " 'Outside City': 298,\n",
       " 'Westwood': 209,\n",
       " 'East Allegheny': 2014,\n",
       " 'Crafton Heights': 546,\n",
       " 'Greenfield': 497,\n",
       " 'Brookline': 1268,\n",
       " 'Regent Square': 35,\n",
       " 'East Liberty': 1733,\n",
       " nan: 2326,\n",
       " 'East Hills': 1084,\n",
       " 'Carrick': 2199,\n",
       " 'Allegheny Center': 1181,\n",
       " 'South Side Flats': 3186,\n",
       " 'Sheraden': 1192,\n",
       " 'East Carnegie': 48,\n",
       " 'Golden Triangle/Civic Arena': 83,\n",
       " 'Point Breeze North': 261,\n",
       " 'Perry South': 990,\n",
       " 'Allentown': 884,\n",
       " 'North Shore': 759,\n",
       " 'Marshall-Shadeland': 1406,\n",
       " 'Central Oakland': 488,\n",
       " 'Middle Hill': 880,\n",
       " 'Strip District': 472,\n",
       " 'Lincoln-Lemington-Belmar': 1219,\n",
       " 'Central Northside': 23,\n",
       " 'Troy Hill-Herrs Island': 6,\n",
       " 'Highland Park': 530,\n",
       " 'Homewood North': 1837,\n",
       " 'Northview Heights': 662,\n",
       " 'Brighton Heights': 1025,\n",
       " 'Hazelwood': 1287,\n",
       " 'Perry North': 567,\n",
       " 'Bedford Dwellings': 616,\n",
       " 'Elliott': 619,\n",
       " 'Beechview': 1116,\n",
       " 'Fineview': 773,\n",
       " 'Glen Hazel': 153,\n",
       " 'Spring Hill-City View': 667,\n",
       " 'Bluff': 1371,\n",
       " 'Manchester': 445,\n",
       " 'Homewood West': 732,\n",
       " 'Outside County': 52,\n",
       " 'Point Breeze': 287,\n",
       " 'Homewood South': 1941,\n",
       " 'Squirrel Hill South': 771,\n",
       " 'Terrace Village': 271,\n",
       " 'Upper Lawrenceville': 174,\n",
       " 'Arlington': 277,\n",
       " 'South Side Slopes': 752,\n",
       " 'Lower Lawrenceville': 249,\n",
       " 'Garfield': 661,\n",
       " 'Lincoln Place': 206,\n",
       " 'Larimer': 811,\n",
       " 'Mount Washington': 1356,\n",
       " 'California-Kirkbride': 280,\n",
       " 'Banksville': 272,\n",
       " 'Bon Air': 249,\n",
       " 'South Shore': 281,\n",
       " 'Beltzhoover': 481,\n",
       " 'Knoxville': 1240,\n",
       " 'Chateau': 415,\n",
       " 'Crawford-Roberts': 768,\n",
       " 'Polish Hill': 153,\n",
       " 'Fairywood': 112,\n",
       " 'West End': 266,\n",
       " 'Shadyside': 898,\n",
       " 'Morningside': 180,\n",
       " 'Overbrook': 294,\n",
       " 'Friendship': 157,\n",
       " 'North Oakland': 409,\n",
       " 'Central Lawrenceville': 415,\n",
       " 'Oakwood': 79,\n",
       " 'Upper Hill': 341,\n",
       " 'South Oakland': 324,\n",
       " 'West Oakland': 284,\n",
       " 'Spring Garden': 205,\n",
       " 'Allegheny West': 122,\n",
       " 'St. Clair': 48,\n",
       " 'Stanton Heights': 210,\n",
       " 'Esplen': 192,\n",
       " 'Squirrel Hill North': 270,\n",
       " 'Mt. Oliver Neighborhood': 2,\n",
       " 'Summer Hill': 67,\n",
       " 'Arlington Heights': 139,\n",
       " 'Troy Hill': 401,\n",
       " 'Central Business District': 3785,\n",
       " 'Central North Side': 783,\n",
       " 'Mount Oliver': 113,\n",
       " 'Windgap': 115,\n",
       " 'Outside State': 60,\n",
       " 'Duquesne Heights': 181,\n",
       " 'New Homestead': 39,\n",
       " 'Ridgemont': 35,\n",
       " 'Swisshelm Park': 40,\n",
       " 'Hays': 106,\n",
       " 'Chartiers City': 40,\n",
       " 'Mt. Oliver Boro': 18}"
      ]
     },
     "execution_count": 26,
     "metadata": {},
     "output_type": "execute_result"
    }
   ],
   "source": [
    "arrest_dict = dict()\n",
    "for index, row in arrest.iterrows():\n",
    "    neighborhood_a = row['INCIDENTNEIGHBORHOOD']\n",
    "    if neighborhood_a not in arrest_dict:\n",
    "        arrest_dict[neighborhood_a] = 1\n",
    "    else:\n",
    "        arrest_dict[neighborhood_a] = arrest_dict[neighborhood_a] + 1\n",
    "arrest_dict"
   ]
  },
  {
   "cell_type": "markdown",
   "metadata": {},
   "source": [
    "---\n",
    "\n",
    "I will now read in a *.csv file that contains data from the 2010 census."
   ]
  },
  {
   "cell_type": "code",
   "execution_count": 27,
   "metadata": {},
   "outputs": [],
   "source": [
    "census = pd.read_csv(\"population-density.csv\", sep=\",\")"
   ]
  },
  {
   "cell_type": "markdown",
   "metadata": {},
   "source": [
    "---\n",
    "Now, similarly to above, I will read each neighborhood and it's corresponding population to a new dictionary. \n",
    "\n",
    "* The numbers were being read in as strings, and the \",\" did not allow me to perform correct calculations later, so I remove the comma and cast them as an int"
   ]
  },
  {
   "cell_type": "code",
   "execution_count": 28,
   "metadata": {},
   "outputs": [
    {
     "data": {
      "text/plain": [
       "{'Allegheny Center': 933,\n",
       " 'Allegheny West': 462,\n",
       " 'Allentown': 2500,\n",
       " 'Arlington': 1869,\n",
       " 'Arlington Heights': 244,\n",
       " 'Banksville': 4144,\n",
       " 'Bedford Dwellings': 1202,\n",
       " 'Beechview': 7974,\n",
       " 'Beltzhoover': 1925,\n",
       " 'Bloomfield': 8442,\n",
       " 'Bluff': 6600,\n",
       " 'Bon Air': 808,\n",
       " 'Brighton Heights': 7247,\n",
       " 'Brookline': 13214,\n",
       " 'California-Kirkbride': 761,\n",
       " 'Carrick': 10113,\n",
       " 'Central Business District': 3629,\n",
       " 'Central Lawrenceville': 4482,\n",
       " 'Central Northside': 2923,\n",
       " 'Central Oakland': 6086,\n",
       " 'Chartiers City': 477,\n",
       " 'Chateau': 11,\n",
       " 'Crafton Heights': 3814,\n",
       " 'Crawford-Roberts': 2256,\n",
       " 'Duquesne Heights': 2425,\n",
       " 'East Allegheny': 2136,\n",
       " 'East Carnegie': 570,\n",
       " 'East Hills': 3169,\n",
       " 'East Liberty': 5869,\n",
       " 'Elliott': 2381,\n",
       " 'Esplen': 301,\n",
       " 'Fairywood': 1002,\n",
       " 'Fineview': 1285,\n",
       " 'Friendship': 1785,\n",
       " 'Garfield': 3675,\n",
       " 'Glen Hazel': 716,\n",
       " 'Greenfield': 7294,\n",
       " 'Hays': 362,\n",
       " 'Hazelwood': 4317,\n",
       " 'Highland Park': 6395,\n",
       " 'Homewood North': 3280,\n",
       " 'Homewood South': 2344,\n",
       " 'Homewood West': 818,\n",
       " 'Knoxville': 3747,\n",
       " 'Larimer': 1728,\n",
       " 'Lincoln Place': 3227,\n",
       " 'Lincoln-Lemington-Belmar': 4883,\n",
       " 'Lower Lawrenceville': 2341,\n",
       " 'Manchester': 2130,\n",
       " 'Marshall-Shadeland': 6043,\n",
       " 'Middle Hill': 1707,\n",
       " 'Morningside': 3346,\n",
       " 'Mount Washington': 8799,\n",
       " 'Mt. Oliver': 509,\n",
       " 'New Homestead': 990,\n",
       " 'North Oakland': 10551,\n",
       " 'North Shore': 303,\n",
       " 'Northview Heights': 1214,\n",
       " 'Oakwood': 1027,\n",
       " 'Overbrook': 3644,\n",
       " 'Perry North': 4050,\n",
       " 'Perry South': 4145,\n",
       " 'Point Breeze': 5315,\n",
       " 'Point Breeze North': 2054,\n",
       " 'Polish Hill': 1274,\n",
       " 'Regent Square': 928,\n",
       " 'Ridgemont': 483,\n",
       " 'Shadyside': 13915,\n",
       " 'Sheraden': 5299,\n",
       " 'South Oakland': 2969,\n",
       " 'South Shore': 19,\n",
       " 'South Side Flats': 6597,\n",
       " 'South Side Slopes': 4423,\n",
       " 'Spring Garden': 884,\n",
       " 'Spring Hill-City View': 2648,\n",
       " 'Squirrel Hill North': 11363,\n",
       " 'Squirrel Hill South': 15110,\n",
       " 'St. Clair': 209,\n",
       " 'Stanton Heights': 4601,\n",
       " 'Strip District': 616,\n",
       " 'Summer Hill': 1051,\n",
       " 'Swisshelm Park': 1361,\n",
       " 'Terrace Village': 3228,\n",
       " 'Troy Hill': 2714,\n",
       " 'Upper Hill': 2057,\n",
       " 'Upper Lawrenceville': 2669,\n",
       " 'West End': 254,\n",
       " 'West Oakland': 2604,\n",
       " 'Westwood': 3066,\n",
       " 'Windgap': 1369}"
      ]
     },
     "execution_count": 28,
     "metadata": {},
     "output_type": "execute_result"
    }
   ],
   "source": [
    "census_dict = dict()\n",
    "for index, row in census.iterrows():\n",
    "    neighborhood_c = row['Neighborhood']\n",
    "    if neighborhood_c not in census_dict:\n",
    "        val = row['Pop. 2010']\n",
    "        val = val.replace(',', '')\n",
    "        census_dict[neighborhood_c] = int(val)\n",
    "census_dict"
   ]
  },
  {
   "cell_type": "markdown",
   "metadata": {},
   "source": [
    "---\n",
    "I now am creating two new dictionaries, one to hold all of the ratios that I calculate, and one to hold the best competitors. I will then loop through the census data dictionary, I then check if the neighborhood I'm reading has arrest data. If it does I get the population and the arrest values from their respective dictionaries and determine the ratio of arrests to the population. I then made a simple bar graph of the neighborhoods that fit the criteria to be placed in the top_ dictionary."
   ]
  },
  {
   "cell_type": "code",
   "execution_count": 29,
   "metadata": {},
   "outputs": [
    {
     "data": {
      "image/png": "[encoded data removed]",
      "text/plain": [
       "<Figure size 432x288 with 1 Axes>"
      ]
     },
     "metadata": {
      "needs_background": "light"
     },
     "output_type": "display_data"
    }
   ],
   "source": [
    "arrest_to_pop_ratio = dict()\n",
    "top_ = dict()\n",
    "for key in census_dict:\n",
    "        if key in arrest_dict:\n",
    "            pop = census_dict[key]\n",
    "            arrests = arrest_dict[key]\n",
    "            ratio = arrests/pop\n",
    "            arrest_to_pop_ratio[key] = ratio\n",
    "            if ratio < 0.04:\n",
    "                top_[key] = ratio\n",
    "#arrest_to_pop_ratio\n",
    "neigh = list(top_.keys())\n",
    "val = list(top_.values())\n",
    "plt.bar(range(len(top_)), val, tick_label=neigh, width=.8)\n",
    "plt.xticks(rotation=90)\n",
    "plt.subplots_adjust(bottom=0.05)\n",
    "plt.show()"
   ]
  },
  {
   "cell_type": "markdown",
   "metadata": {},
   "source": [
    "## Conclusion\n",
    "---\n",
    "After counting the number of arrests in each neighborhood, I used census data from 2010 to figure out the population of each neighborhood. If the neighborhood was included in both datasets, I found the ratio between the number of arrests and the population of each neighborhood. Whichever one of these ratios was the lowest will determine which neighborhood is the best to live in. I will list the top 5 for the sole purpose of comparing to the other submetrics that my group members have, here are the top 5 neighborhoods, from best to \"worst\".\n",
    "1. Central Northside = 0.00786862812179268\n",
    "2. Squirrel Hill North = 0.023761330634515535\n",
    "3. Swisshelm Park = 0.029390154298310066\n",
    "4. Regent Square = 0.03771551724137931\n",
    "5. North Oakland = 0.03876409818974505"
   ]
  },
  {
   "cell_type": "markdown",
   "metadata": {},
   "source": [
    "## We will now move to park data from Heather\n",
    "---\n"
   ]
  },
  {
   "cell_type": "markdown",
   "metadata": {},
   "source": [
    "## Park Data\n",
    "\n",
    "I imported Pandas to analyze the data and Matplotlib to graph it. Then, I read the CSV file and created a dictionary of all the neighborhoods, along with how many times each neighborhood appeared in the dictionary."
   ]
  },
  {
   "cell_type": "code",
   "execution_count": 30,
   "metadata": {},
   "outputs": [],
   "source": [
    "import pandas as pd\n",
    "import matplotlib.pyplot as plt\n",
    "\n",
    "# Read the CSV file and create a dict\n",
    "parkData = pd.read_csv(\"parks_in_pitt.csv\", sep=\",\")\n",
    "park_dict = dict()\n",
    "for index, row in parkData.iterrows():\n",
    "    neigh = row['neighborhood']\n",
    "    if neigh not in park_dict:\n",
    "        park_dict[neigh] = 1\n",
    "    else:\n",
    "        park_dict[neigh] += 1"
   ]
  },
  {
   "cell_type": "markdown",
   "metadata": {},
   "source": [
    "---\n",
    "\n",
    "The more parks in a neighborhood, the better it is. So, I sorted the dictionary in descending numerical order:"
   ]
  },
  {
   "cell_type": "code",
   "execution_count": 31,
   "metadata": {},
   "outputs": [
    {
     "name": "stdout",
     "output_type": "stream",
     "text": [
      "[('East Liberty', 12), ('Central Business District', 10), ('Beechview', 8), ('South Side Slopes', 7), ('Point Breeze', 7), ('South Side Flats', 6), ('Hazelwood', 6), ('Squirrel Hill South', 6), ('Mount Washington', 6), ('Sheraden', 6), ('South Oakland', 5), ('Troy Hill', 5), ('Central Oakland', 4), ('Brighton Heights', 4), ('Elliott', 4), ('Marshall-Shadeland', 4), ('Crawford-Roberts', 3), ('North Shore', 3), ('Central Northside', 3), ('Lower Lawrenceville', 3), ('Brookline', 3), ('Lincoln-Lemington-Belmar', 3), ('Westwood', 3), ('Upper Lawrenceville', 3), ('Garfield', 3), ('Greenfield', 3), ('Larimer', 3), ('Bloomfield', 3), ('Spring Hill-City View', 3), ('Carrick', 3), ('Manchester', 3), ('Beltzhoover', 3), ('Point Breeze North', 3), ('Swisshelm Park', 3), ('Allegheny Center', 2), ('Banksville', 2), ('Homewood North', 2), ('Spring Garden', 2), ('Perry South', 2), ('Strip District', 2), ('Crafton Heights', 2), ('Allentown', 2), ('Duquesne Heights', 2), ('Fineview', 2), ('Perry North', 2), ('Highland Park', 2), ('Terrace Village', 2), ('Lincoln Place', 2), ('Polish Hill', 2), ('West End', 2), ('Bedford Dwellings', 1), ('Bon Air', 1), ('Windgap', 1), ('Homewood West', 1), ('Arlington', 1), ('Stanton Heights', 1), ('East Carnegie', 1), ('East Hills', 1), ('Esplen', 1), ('Fairywood', 1), ('North Oakland', 1), ('Hays', 1), ('Homewood South', 1), ('Morningside', 1), ('Central Lawrenceville', 1), ('Oakwood', 1), ('Regent Square', 1), ('Upper Hill', 1), ('New Homestead', 1), ('West Oakland', 1), ('Bluff', 1), ('Middle Hill', 1), ('Squirrel Hill North', 1)]\n"
     ]
    }
   ],
   "source": [
    "sorted_park_dict = sorted(park_dict.items(), key=lambda x: x[1], reverse=True)\n",
    "print(sorted_park_dict)"
   ]
  },
  {
   "cell_type": "markdown",
   "metadata": {},
   "source": [
    "---\n",
    "\n",
    "The top 5 neighborhoods are what we decided to analyze so I listed them:"
   ]
  },
  {
   "cell_type": "code",
   "execution_count": 32,
   "metadata": {},
   "outputs": [
    {
     "name": "stdout",
     "output_type": "stream",
     "text": [
      "1. East Liberty: 12\n",
      "2. Central Business District: 10\n",
      "3. Beechview: 8\n",
      "4. South Side Slopes: 7\n",
      "5. Point Breeze: 7\n"
     ]
    }
   ],
   "source": [
    "for i, (neighborhood, park_count) in enumerate(sorted_park_dict[:5]):\n",
    "    print(f\"{i+1}. {neighborhood}: {park_count}\")"
   ]
  },
  {
   "cell_type": "markdown",
   "metadata": {},
   "source": [
    "---\n",
    "\n",
    "I used a bar graph to plot the data."
   ]
  },
  {
   "cell_type": "code",
   "execution_count": 33,
   "metadata": {},
   "outputs": [
    {
     "data": {
      "image/png": "[encoded data removed]",
      "text/plain": [
       "<Figure size 432x288 with 1 Axes>"
      ]
     },
     "metadata": {
      "needs_background": "light"
     },
     "output_type": "display_data"
    }
   ],
   "source": [
    "top_5_parks = pd.DataFrame(sorted_park_dict[:5], columns=['Neighborhood', 'Park Count'])\n",
    "\n",
    "# Create a bar chart\n",
    "top_5_parks.plot(kind='bar', x='Neighborhood', y='Park Count')\n",
    "\n",
    "# Add chart labels\n",
    "plt.title('Number of Parks in Top 5 Pittsburgh Neighborhoods')\n",
    "plt.xlabel('Neighborhood')\n",
    "plt.ylabel('Number of Parks')\n",
    "\n",
    "# Show the chart\n",
    "plt.show()"
   ]
  },
  {
   "cell_type": "markdown",
   "metadata": {},
   "source": [
    "---\n",
    "## Conclusion\n",
    "\n",
    "\n",
    "This metric was chosen because we concluded that there would be a positive correlation between the number of parks in a neighborhood and how \"good\" the neighborhood is. Since parks are community spaces, the number of them can be a good indicator of how community-oriented an area is.\n",
    "\n",
    "I chose a data set that included all the neighborhoods in Pittsburgh and the number of parks in each. After creating a dictionary, sorting it numerically, and listing the top 5, I created a bar chart with the information.\n",
    "\n",
    "The chart shows the top 5 best neighborhoods to live in. Based on this parameter alone, the best neighborhood in Pittsburgh is East Liberty."
   ]
  },
  {
   "cell_type": "markdown",
   "metadata": {},
   "source": [
    "## We will now conclude with Blood-lead levels from Aidan\n",
    "---"
   ]
  },
  {
   "cell_type": "markdown",
   "metadata": {},
   "source": [
    "To begin, I imported pandas, matplotlib and read in the csv file into a pandas dataframe."
   ]
  },
  {
   "cell_type": "code",
   "execution_count": 34,
   "metadata": {},
   "outputs": [],
   "source": [
    "#import pandas\n",
    "import pandas as pd\n",
    "import matplotlib.pyplot as plt\n",
    "\n",
    "# load in the blood lead schools data file\n",
    "data = pd.read_csv(\"blood-lead-schools.csv\")"
   ]
  },
  {
   "cell_type": "markdown",
   "metadata": {},
   "source": [
    "Next I initialized my schoolDistrict variable, my ebll variable, and a dict named allEblls"
   ]
  },
  {
   "cell_type": "code",
   "execution_count": 35,
   "metadata": {},
   "outputs": [],
   "source": [
    "#initialize variable schoolDistrict\n",
    "schoolDistrict = \"\"\n",
    "\n",
    "#initialize variable ebll\n",
    "ebll = 0\n",
    "\n",
    "#initialize allEblls\n",
    "allEblls = {}"
   ]
  },
  {
   "cell_type": "markdown",
   "metadata": {},
   "source": [
    "Next I run a for loop and inspect each row in the dataframe, if a school has no ebll reported from 2015-2020 then there was not enough cases of students with lead in blood so these schools will all have an ebll of 0. Schools are placed into the dictionary as the key with their unique ebll assigned to them. After this, the dictionary is sorted in asscending order and is printed."
   ]
  },
  {
   "cell_type": "code",
   "execution_count": 36,
   "metadata": {},
   "outputs": [
    {
     "name": "stdout",
     "output_type": "stream",
     "text": [
      "{'Fort Cherry': 0, 'Penn-Trafford': 0, 'Pine-Richland': 0, 'Plum Borough': 0, 'Hampton Township': 0.13, 'West Jefferson Hills': 0.13, 'North Allegheny': 0.2, 'Upper St. Clair Area': 0.26, 'Mt. Lebanon': 0.37, 'South Park': 0.37, 'West Allegheny': 0.38, 'Bethel Park': 0.44, 'Deer Lakes': 0.45, 'Allegheny Valley': 0.58, 'Fox Chapel Area': 0.77, 'Montour': 0.8, 'South Fayette Township': 0.83, 'Penn Hills': 0.86, 'Keystone Oaks': 0.94, 'Moon Area': 0.95, 'Baldwin-Whitehall': 0.98, 'North Hills': 1.01, 'Avonworth': 1.02, 'Elizabeth Forward': 1.06, 'West Mifflin Area': 1.42, 'Shaler Area': 1.61, 'Quaker Valley': 1.62, 'Chartiers Valley': 1.78, 'Highlands': 1.78, 'Gateway': 1.79, 'Clairton City': 2.22, 'Riverview': 2.25, 'Steel Valley': 2.26, 'South Allegheny': 2.44, 'Cornell': 2.46, 'Brentwood Borough': 2.47, 'Sto-Rox': 2.83, 'East Allegheny': 3.09, 'Carlynton': 3.13, 'Woodland Hills': 3.53, 'City of Pittsburgh': 4.56, 'Duquesne City': 4.88, 'Northgate': 5.57, 'Wilkinsburg': 6.08, 'McKeesport Area': 6.21}\n"
     ]
    }
   ],
   "source": [
    "# for every row in the data\n",
    "for index, row in data.iterrows():\n",
    "    schoolDistrict = row['SchoolDistrict']\n",
    "    ebll = row['percentEBLL15_20']\n",
    "    if(ebll > 0):\n",
    "        #print(\"School District: \",schoolDistrict,\" EBLL: \",ebll,\"index: \", index)\n",
    "        allEblls[schoolDistrict] = ebll\n",
    "    else:\n",
    "        #print(\"School District: \",schoolDistrict,\" No EBLL Found\")\n",
    "        allEblls[schoolDistrict] = 0\n",
    "        \n",
    "# sort dictionary by value of keys in asscending order\n",
    "sorted_dict = dict(sorted(allEblls.items(), key=lambda x: x[1]))\n",
    "print(sorted_dict)"
   ]
  },
  {
   "cell_type": "markdown",
   "metadata": {},
   "source": [
    "Finaly I extracted all of the keys and values from the dict and mapped them on a bar graph using matplotlib."
   ]
  },
  {
   "cell_type": "code",
   "execution_count": 37,
   "metadata": {},
   "outputs": [
    {
     "data": {
      "image/png": "[encoded data removed]",
      "text/plain": [
       "<Figure size 432x288 with 1 Axes>"
      ]
     },
     "metadata": {
      "needs_background": "light"
     },
     "output_type": "display_data"
    }
   ],
   "source": [
    "# extract keys and values from the dictionary\n",
    "keys = list(sorted_dict.keys())\n",
    "values = list(sorted_dict.values())\n",
    "\n",
    "# create a bar chart using the keys and values\n",
    "plt.bar(keys, values, width=0.3)\n",
    "plt.xticks(rotation=90)\n",
    "\n",
    "\n",
    "# Set chart title and axis labels\n",
    "plt.title(\"All Eblls\")\n",
    "plt.xlabel(\"School Districts\")\n",
    "plt.ylabel(\"Ebll Value\")\n",
    "\n",
    "# Display the chart\n",
    "plt.show()"
   ]
  },
  {
   "cell_type": "markdown",
   "metadata": {},
   "source": [
    "### Conclusion:\n",
    "\n",
    "Fort Cherry, Penn-Trafford, Pine-Richland, and Plum Borough all had an EBLL of 0, meaning they would be the most optimal school districts to send children. Hampton Township and West Jefferson Hills both have reported EBLL of below 0.2 %, which is exceptional as well. As you get closer to Downtown/Mckeesport Area the EBLL % increases drastically. All in all, Fort Cherry, Penn-Trafford, Pine-Richland, Plum Borough, Hampton Township and West Jefferson Hills are all exceptionally safe school districts to send your children too, in terms of how much lead will be in their blood as a result of their schooling."
   ]
  },
  {
   "cell_type": "markdown",
   "metadata": {},
   "source": [
    "## Final Conclusion\n",
    "---\n",
    "\n",
    "Soooo, our results were kind of inconclusive, with none of our top five's overlapping. But, if we did have to choose a neighborhood, we decided on Squirrel Hill. Squirrel Hill was in the top of the arrest data and it was just outside of the top five for the park data, we decided that the arrest data had the most weight in our decision, which led to our overall pick of Squirrel Hill."
   ]
  }
 ],
 "metadata": {
  "kernelspec": {
   "display_name": "Python 3",
   "language": "python",
   "name": "python3"
  },
  "language_info": {
   "codemirror_mode": {
    "name": "ipython",
    "version": 3
   },
   "file_extension": ".py",
   "mimetype": "text/x-python",
   "name": "python",
   "nbconvert_exporter": "python",
   "pygments_lexer": "ipython3",
   "version": "3.8.3"
  }
 },
 "nbformat": 4,
 "nbformat_minor": 4
}
